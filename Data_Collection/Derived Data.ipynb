{
 "cells": [
  {
   "cell_type": "code",
   "execution_count": 2,
   "id": "f218e9ab",
   "metadata": {},
   "outputs": [],
   "source": [
    "## importing necessary packages\n",
    "import pandas as pd\n",
    "import numpy as np\n",
    "import os\n",
    "import holidays\n",
    "pd.set_option(\"display.max_columns\",None)"
   ]
  },
  {
   "cell_type": "code",
   "execution_count": 62,
   "id": "a07fabd8",
   "metadata": {},
   "outputs": [],
   "source": [
    "## readiing the yearwise ride data\n",
    "rides_data = os.listdir(\".\\Yearwise_Files\")"
   ]
  },
  {
   "cell_type": "code",
   "execution_count": 126,
   "id": "ef8a988e",
   "metadata": {},
   "outputs": [],
   "source": [
    "def ride_data_grouping(file):\n",
    "    data = pd.read_csv(os.path.join(\".\\Yearwise_Files\",file),usecols=[\"start_date\",\"member_type\"])\n",
    "    # converting \"start_date\" variable to datetime type\n",
    "    data[\"start_date\"] = pd.to_datetime(data[\"start_date\"])\n",
    "    data[\"date\"] = data[\"start_date\"].dt.date    # Extracting date part from \"start_date\"\n",
    "    data[\"hour\"] = data[\"start_date\"].dt.hour    # Extracting hour part from \"start_date\"\n",
    "    data = data.drop(columns = \"start_date\")  \n",
    "    \n",
    "    # converting the values of \"member_type\" variable to lower case\n",
    "    data[\"member_type\"] = data[\"member_type\"].apply(lambda x: x.lower())\n",
    "    \n",
    "    # Grouping the data according to member_type and finding the count of each type for each day and hour\n",
    "    data2 = data.groupby(by = [\"date\",\"hour\",\"member_type\"]).value_counts().reset_index()\n",
    "    \n",
    "    # Creating different datasets for different member_type\n",
    "    data2_casual = data2[data2[\"member_type\"]==\"casual\"]\n",
    "    data2_member = data2[data2[\"member_type\"]==\"member\"]\n",
    "    \n",
    "    # Merging the above datasets according to date and hour, to get count of Casual and Member riders for each hour and day\n",
    "    data3 = data2_casual.merge(data2_member, on = [\"date\",\"hour\"],how=\"outer\")\n",
    "    # Renaming the columns of merged dataset\n",
    "    data3.rename(columns = {\"0_x\":\"casual\",\"0_y\":\"member\"},inplace = True)\n",
    "    # Arranging the columns for better understanding\n",
    "    data3 = data3.loc[:,[\"date\",\"hour\",\"casual\",\"member\"]]\n",
    "    # Sorting the merged dataset  according to date then hour\n",
    "    data3.sort_values(by=[\"date\",\"hour\"],inplace = True)\n",
    "    \n",
    "    # There are some NaN values after merging, replacing those with 0\n",
    "    data3[\"casual\"] = data3[\"casual\"].fillna(0)\n",
    "    data3[\"member\"] = data3[\"member\"].fillna(0)\n",
    "    \n",
    "    # Calculating total number of riders for each hour in a day\n",
    "    data3[\"total_count\"] = data3[\"casual\"]+data3[\"member\"]\n",
    "    return data3"
   ]
  },
  {
   "cell_type": "code",
   "execution_count": 127,
   "id": "3f7297ed",
   "metadata": {},
   "outputs": [],
   "source": [
    "## Checking whether the day is holiday or not\n",
    "def holiday_check(date):\n",
    "    us_holidays = holidays.US(state=\"DC\")\n",
    "    if us_holidays.get(date) == None:\n",
    "        return 0\n",
    "    else:\n",
    "        return 1\n",
    "\n",
    "# Getting the season of the year for the passed month\n",
    "def get_season(month):\n",
    "    if month in [1,2,3]:\n",
    "        return \"winter\"\n",
    "    elif month in [4,5,6]:\n",
    "        return \"spring\"\n",
    "    elif month in [7,8,9]:\n",
    "        return \"summer\"\n",
    "    else:\n",
    "        return \"fall\""
   ]
  },
  {
   "cell_type": "code",
   "execution_count": 130,
   "id": "b214c5e2",
   "metadata": {},
   "outputs": [
    {
     "name": "stdout",
     "output_type": "stream",
     "text": [
      "Successfully derived ride data for year: 2018\n",
      "Successfully derived ride data for year: 2019\n",
      "Successfully derived ride data for year: 2020\n",
      "Successfully derived ride data for year: 2021\n",
      "Successfully derived ride data for year: 2022\n"
     ]
    }
   ],
   "source": [
    "# Creating directory to store .CSV files \n",
    "os.makedirs(\"Final_Ride_Data\",exist_ok=True)\n",
    "for file in rides_data:\n",
    "    df = ride_data_grouping(file)\n",
    "    df[\"date\"] = pd.to_datetime(df[\"date\"])\n",
    "    ## Extracting month, year, weekday from the date variable\n",
    "    df[\"month\"] = df[\"date\"].dt.month\n",
    "    df[\"year\"] = df[\"date\"].dt.year\n",
    "    df[\"weekday\"] = df[\"date\"].dt.weekday\n",
    "    \n",
    "    ## Creating the \"is_holiday\" variable to capture whether the day is holiday(1) or not(0) \n",
    "    df[\"is_holiday\"] = df[\"date\"].apply(holiday_check)\n",
    "    \n",
    "    ## Creating the \"working_day\" variable to capture whether the day is working day(1) or not(0) \n",
    "    df[\"working_day\"] = np.where((df[\"is_holiday\"]==1),0,(np.where((df[\"weekday\"]>=5),0,1)))\n",
    "    \n",
    "    ## getting season for the month\n",
    "    df[\"season\"] = df[\"month\"].apply(get_season)\n",
    "    ## Arranging the columns for better understanding\n",
    "    df = df.loc[:,[\"date\",\"year\",\"month\",\"hour\",\"season\",\"weekday\",\"is_holiday\",\"working_day\",\"casual\",\"member\",\"total_count\"]]\n",
    "    ## Saving the dataset .CSV file\n",
    "    df.to_csv(f\".\\Final_Ride_Data/ridedata_{df['year'][0]}.csv\",index = None)\n",
    "    print(f\"Successfully derived ride data for year: {df['year'][0]}\")"
   ]
  },
  {
   "cell_type": "code",
   "execution_count": null,
   "id": "129b060f",
   "metadata": {},
   "outputs": [],
   "source": []
  },
  {
   "cell_type": "markdown",
   "id": "9cf7aa32",
   "metadata": {},
   "source": [
    "## Ride and Weather Data Combine"
   ]
  },
  {
   "cell_type": "code",
   "execution_count": 3,
   "id": "0e07337a",
   "metadata": {},
   "outputs": [],
   "source": [
    "final_ride = os.listdir(\".\\Final_Ride_Data\")\n",
    "weather_data = os.listdir(\".\\Weather_Hourly_Data\")"
   ]
  },
  {
   "cell_type": "code",
   "execution_count": 4,
   "id": "eda6a9e0",
   "metadata": {},
   "outputs": [
    {
     "data": {
      "text/plain": [
       "['ridedata_2018.csv',\n",
       " 'ridedata_2019.csv',\n",
       " 'ridedata_2020.csv',\n",
       " 'ridedata_2021.csv',\n",
       " 'ridedata_2022.csv']"
      ]
     },
     "execution_count": 4,
     "metadata": {},
     "output_type": "execute_result"
    }
   ],
   "source": [
    "final_ride"
   ]
  },
  {
   "cell_type": "code",
   "execution_count": 5,
   "id": "fd172a17",
   "metadata": {},
   "outputs": [
    {
     "data": {
      "text/plain": [
       "['2018-weather-data.csv',\n",
       " '2019-weather-data.csv',\n",
       " '2020-weather-data.csv',\n",
       " '2021-weather-data.csv',\n",
       " '2022-weather-data.csv']"
      ]
     },
     "execution_count": 5,
     "metadata": {},
     "output_type": "execute_result"
    }
   ],
   "source": [
    "weather_data"
   ]
  },
  {
   "cell_type": "code",
   "execution_count": 25,
   "id": "ef8aaa96",
   "metadata": {},
   "outputs": [
    {
     "name": "stdout",
     "output_type": "stream",
     "text": [
      "Successfully derived data for year: 2018\n",
      "Successfully derived data for year: 2019\n",
      "Successfully derived data for year: 2020\n",
      "Successfully derived data for year: 2021\n",
      "Successfully derived data for year: 2022\n"
     ]
    }
   ],
   "source": [
    "os.makedirs(\".\\Final_Derived_Data\")\n",
    "for i in range(len(final_ride)):\n",
    "    ride = pd.read_csv(\".\\Final_Ride_Data/\"+final_ride[i])\n",
    "    # converting \"date\" variable to datetime type\n",
    "    ride[\"date\"] = pd.to_datetime(ride[\"date\"])     \n",
    "    \n",
    "    weather = pd.read_csv(\".\\Weather_Hourly_Data/\"+weather_data[i])\n",
    "    # Dropping the unwanted variables\n",
    "    weather.drop(columns= [\"Wind Gust\",\"Dew Point\",\"Pressure\"],inplace=True)\n",
    "    # Renaming the columns\n",
    "    weather.columns = [\"date\", \"time\", \"temperature(in celcius)\", \"relative_temperature(in celcius)\", \n",
    "                       \"wind_speed(in kmph)\",\"humidity(in %)\", \"description\"]\n",
    "    # converting \"date\" variable to datetime type\n",
    "    weather[\"date\"] = pd.to_datetime(weather[\"date\"])\n",
    "    # Extracting \"hour\" part from time variable\n",
    "    weather[\"hour\"] = pd.to_datetime(weather[\"time\"], format=\"%H:%M\").dt.hour\n",
    "    weather.drop([\"time\"],axis=1, inplace=True)\n",
    "    \n",
    "    # Merging the ride data and weather data for each year\n",
    "    derived_data = ride.merge(weather, on = [\"date\",\"hour\"])\n",
    "    derived_data.to_csv(f\".\\Final_Derived_Data/final_data_{derived_data['year'][0]}.csv\",index=None)\n",
    "    print(f\"Successfully derived data for year: {derived_data['year'][0]}\")"
   ]
  },
  {
   "cell_type": "code",
   "execution_count": null,
   "id": "6c3287de",
   "metadata": {},
   "outputs": [],
   "source": []
  }
 ],
 "metadata": {
  "kernelspec": {
   "display_name": "Python 3 (ipykernel)",
   "language": "python",
   "name": "python3"
  },
  "language_info": {
   "codemirror_mode": {
    "name": "ipython",
    "version": 3
   },
   "file_extension": ".py",
   "mimetype": "text/x-python",
   "name": "python",
   "nbconvert_exporter": "python",
   "pygments_lexer": "ipython3",
   "version": "3.9.12"
  }
 },
 "nbformat": 4,
 "nbformat_minor": 5
}
